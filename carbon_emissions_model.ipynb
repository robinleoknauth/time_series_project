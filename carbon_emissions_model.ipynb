{
 "cells": [
  {
   "cell_type": "code",
   "execution_count": 27,
   "metadata": {},
   "outputs": [],
   "source": [
    "import pandas as pd\n",
    "import numpy as np\n",
    "import seaborn as sns\n",
    "import matplotlib.pyplot as plt\n",
    "import matplotlib.mlab as mlab\n",
    "\n",
    "import statsmodels.api as sm\n",
    "import statsmodels.tsa.api as smt\n",
    "from statsmodels.tsa.arima_model import ARIMA\n",
    "import statsmodels.tsa.stattools as ts\n",
    "from statsmodels.tsa.stattools import adfuller\n",
    "\n",
    "from fbprophet import Prophet\n",
    "\n",
    "import pyflux as pf\n",
    "\n",
    "import warnings\n",
    "warnings.filterwarnings('ignore')\n",
    "\n",
    "import itertools\n",
    "\n",
    "from sklearn.linear_model import LinearRegression\n",
    "from sklearn.linear_model import RidgeCV\n",
    "\n",
    "from pandas.plotting import autocorrelation_plot\n",
    "\n",
    "import re\n",
    "\n",
    "import sys\n",
    "import os\n",
    "\n",
    "from functools import reduce"
   ]
  },
  {
   "cell_type": "markdown",
   "metadata": {},
   "source": [
    "## Helper functions"
   ]
  },
  {
   "cell_type": "code",
   "execution_count": 28,
   "metadata": {},
   "outputs": [],
   "source": [
    "def calc_RMSE(validation_data, prediction_data):\n",
    "   \"\"\"\n",
    "   Calculate RMSE\n",
    "   \"\"\"\n",
    "   a = np.array(validation_data)\n",
    "   b = np.array(prediction_data)\n",
    "\n",
    "   return np.sqrt(np.mean((b-a)**2))"
   ]
  },
  {
   "cell_type": "code",
   "execution_count": 29,
   "metadata": {},
   "outputs": [],
   "source": [
    "def get_fuller_test(series):\n",
    "    values = series.values\n",
    "    result = adfuller(values)\n",
    "    print('ADF Statistic: %f' % result[0])\n",
    "    print('p-value: %f' % result[1])\n",
    "    print('Critical Values:')\n",
    "    for key, value in result[4].items():\n",
    "        print('\\t%s: %.3f' % (key, value))"
   ]
  },
  {
   "cell_type": "code",
   "execution_count": 30,
   "metadata": {},
   "outputs": [],
   "source": [
    "def make_plots(data, lags=None):\n",
    "    '''\n",
    "    plotting the data with specified number of lags.\n",
    "    plotting raw data, then ACF and PACF\n",
    "    '''\n",
    "    layout = (1, 3)\n",
    "    raw  = plt.subplot2grid(layout, (0, 0))\n",
    "    acf  = plt.subplot2grid(layout, (0, 1))\n",
    "    pacf = plt.subplot2grid(layout, (0, 2))\n",
    "    \n",
    "    data.plot(ax = raw, figsize=(12, 6))\n",
    "    smt.graphics.plot_acf(data, lags = lags, ax = acf)\n",
    "    smt.graphics.plot_pacf(data, lags = lags, ax = pacf)\n",
    "    sns.despine()\n",
    "    plt.tight_layout()"
   ]
  },
  {
   "cell_type": "code",
   "execution_count": 31,
   "metadata": {},
   "outputs": [],
   "source": [
    "def make_plots_2(data, lags=None):\n",
    "    '''\n",
    "    plotting rolling mean, rolling std and original as per number of lags\n",
    "    '''\n",
    "    rolling_mean = data.rolling(window = lags).mean()\n",
    "    rolling_std = data.rolling(window = lags).std()\n",
    "    \n",
    "    original = plt.plot(data, color='black',label = 'Original Timeseries')\n",
    "    mean = plt.plot(rolling_mean, color='red', label = 'Rolling Mean')\n",
    "    std = plt.plot(rolling_std, color='orange', label = 'Rolling Std')\n",
    "    plt.legend(loc='best')\n",
    "    plt.title('Original, Rolling Mean, Standard Deviation')\n",
    "    sns.despine()\n",
    "    plt.show()"
   ]
  },
  {
   "cell_type": "code",
   "execution_count": 32,
   "metadata": {},
   "outputs": [],
   "source": [
    "def find_best_params(array):\n",
    "    '''\n",
    "    findind the best parametes using grid lock search\n",
    "    '''\n",
    "    \n",
    "    # creating the  parameters as tuples\n",
    "    p = d = q = range(0, 3)\n",
    "    pdq = list(itertools.product(p, d, q))\n",
    "    results = {}\n",
    "    for param in pdq:\n",
    "        \n",
    "        try:\n",
    "            model = ARIMA(array ,order = param )\n",
    "            fit = model.fit()\n",
    "            results[str(param)] = fit.aic\n",
    "            \n",
    "        except:\n",
    "            continue\n",
    "\n",
    "    print(min(results, key=results.get))\n",
    "    return results"
   ]
  },
  {
   "cell_type": "code",
   "execution_count": null,
   "metadata": {},
   "outputs": [],
   "source": []
  },
  {
   "cell_type": "markdown",
   "metadata": {},
   "source": [
    "## Importing pickles"
   ]
  },
  {
   "cell_type": "code",
   "execution_count": 33,
   "metadata": {},
   "outputs": [],
   "source": [
    "df_co2_clean = pd.read_pickle('co2_clean.pkl')\n",
    "df_co2_clean.set_index('country', inplace = True)"
   ]
  },
  {
   "cell_type": "code",
   "execution_count": 34,
   "metadata": {},
   "outputs": [],
   "source": [
    "df_gdp_clean = pd.read_pickle('gdp_clean.pkl')\n",
    "df_gdp_clean.set_index('country', inplace = True)"
   ]
  },
  {
   "cell_type": "code",
   "execution_count": 35,
   "metadata": {},
   "outputs": [],
   "source": [
    "df_urban_com = pd.read_pickle('urban_com.pkl')\n",
    "df_urban_com.set_index('country', inplace = True)"
   ]
  },
  {
   "cell_type": "markdown",
   "metadata": {},
   "source": [
    "## Train Test Validation split"
   ]
  },
  {
   "cell_type": "code",
   "execution_count": 36,
   "metadata": {},
   "outputs": [],
   "source": [
    "years_train = list(range(1962, 1993))\n",
    "df_co2_train = df_co2_clean[[c for c in df_co2_clean.columns if int(c) in years_train]]"
   ]
  },
  {
   "cell_type": "code",
   "execution_count": 37,
   "metadata": {},
   "outputs": [],
   "source": [
    "years_val = list(range(1994, 2005))\n",
    "df_co2_val = df_co2_clean[[c for c in df_co2_clean.columns if int(c) in years_val]]"
   ]
  },
  {
   "cell_type": "code",
   "execution_count": 38,
   "metadata": {},
   "outputs": [],
   "source": [
    "years_train_val = years_train + years_val\n",
    "df_co2_train_val = df_co2_train = df_co2_clean[[c for c in df_co2_clean.columns if int(c) in years_train_val]]"
   ]
  },
  {
   "cell_type": "code",
   "execution_count": 39,
   "metadata": {},
   "outputs": [],
   "source": [
    "years_test = list(range(2005, 2013))\n",
    "df_co2_test = df_co2_clean[[c for c in df_co2_clean.columns if int(c) in years_test]]"
   ]
  },
  {
   "cell_type": "markdown",
   "metadata": {},
   "source": [
    "## Models"
   ]
  },
  {
   "cell_type": "code",
   "execution_count": 115,
   "metadata": {},
   "outputs": [],
   "source": [
    "def make_dynamic_refitting_model( country = 'Germany', df_train = df_co2_train, df_val = df_co2_val, p = 0, d = 0 , q = 0 ):\n",
    "    predictions = []\n",
    "#     print(len(df_train.loc[country]) - len(df_val.loc[country]))\n",
    "#     for i in range(0, len(df_train.loc[country] - len(df_val.loc[country]))):\n",
    "#         predictions += [10]\n",
    "    \n",
    "    df = list(df_train.loc[country])\n",
    "    for el in list(df_val.loc[country]):\n",
    "        model = ARIMA(df, order=(p,d,q)).fit()\n",
    "#         pred = model.predict(start = len(df), end = len(df), dynamic=False)[0]\n",
    "#         pred = model.predict(start = len(df), end = len(df), dynamic = True)[0]\n",
    "        pred = model.forecast()[0][0]\n",
    "        print(pred)\n",
    "        predictions.append(pred)\n",
    "        df.append(el)\n",
    "#         print(el)\n",
    "    \n",
    "#     plt.plot(list(df_train.loc[country]))\n",
    "    \n",
    "#     plt.plot(df)\n",
    "    RMSE = calc_RMSE(df_val.loc[country],np.array(predictions))\n",
    "    for i in range(len(df_val.loc[country]) +1, len(df_train.loc[country] - len(df_val.loc[country]))):\n",
    "        predictions = [df_train.loc[country].mean()] + predictions\n",
    "#     plt.plot(list(df_co2_train_val.loc[country]))\n",
    "#     plt.plot(predictions)\n",
    "#     print(df)\n",
    "#     print(predictions)\n",
    "#     return RMSE, predictions, df_co2_train.loc[country][:-10]\n",
    "#     return RMSE, predictions, df_co2_train.loc[country][:-10]\n",
    "    return RSME\n",
    "\n",
    "\n"
   ]
  },
  {
   "cell_type": "code",
   "execution_count": 121,
   "metadata": {
    "scrolled": false
   },
   "outputs": [
    {
     "name": "stdout",
     "output_type": "stream",
     "text": [
      "19.897674827469547\n",
      "19.330973868199052\n",
      "19.46155706542866\n",
      "19.785066639205212\n",
      "20.014108024388914\n",
      "19.75180478181617\n",
      "19.919220149298308\n",
      "20.45848897661662\n",
      "19.33356730325151\n",
      "19.771564313334935\n",
      "19.475343111673336\n"
     ]
    },
    {
     "data": {
      "text/plain": [
       "(0.34336244612560607,\n",
       " [19.39454664309524,\n",
       "  19.39454664309524,\n",
       "  19.39454664309524,\n",
       "  19.39454664309524,\n",
       "  19.39454664309524,\n",
       "  19.39454664309524,\n",
       "  19.39454664309524,\n",
       "  19.39454664309524,\n",
       "  19.39454664309524,\n",
       "  19.39454664309524,\n",
       "  19.39454664309524,\n",
       "  19.39454664309524,\n",
       "  19.39454664309524,\n",
       "  19.39454664309524,\n",
       "  19.39454664309524,\n",
       "  19.39454664309524,\n",
       "  19.39454664309524,\n",
       "  19.39454664309524,\n",
       "  19.39454664309524,\n",
       "  19.39454664309524,\n",
       "  19.39454664309524,\n",
       "  19.39454664309524,\n",
       "  19.39454664309524,\n",
       "  19.39454664309524,\n",
       "  19.39454664309524,\n",
       "  19.39454664309524,\n",
       "  19.39454664309524,\n",
       "  19.39454664309524,\n",
       "  19.39454664309524,\n",
       "  19.39454664309524,\n",
       "  19.897674827469547,\n",
       "  19.330973868199052,\n",
       "  19.46155706542866,\n",
       "  19.785066639205212,\n",
       "  20.014108024388914,\n",
       "  19.75180478181617,\n",
       "  19.919220149298308,\n",
       "  20.45848897661662,\n",
       "  19.33356730325151,\n",
       "  19.771564313334935,\n",
       "  19.475343111673336],\n",
       " 1962    15.560690\n",
       " 1963    16.028074\n",
       " 1964    16.518466\n",
       " 1965    16.999607\n",
       " 1966    17.661434\n",
       " 1967    18.139664\n",
       " 1968    18.626733\n",
       " 1969    19.387715\n",
       " 1970    20.664715\n",
       " 1971    20.611592\n",
       " 1972    21.404598\n",
       " 1973    22.167963\n",
       " 1974    21.178176\n",
       " 1975    20.108448\n",
       " 1976    20.856631\n",
       " 1977    21.237777\n",
       " 1978    21.685390\n",
       " 1979    21.526390\n",
       " 1980    20.540592\n",
       " 1981    19.528858\n",
       " 1982    18.356464\n",
       " 1983    18.327001\n",
       " 1984    18.718705\n",
       " 1985    18.605083\n",
       " 1986    18.442898\n",
       " 1987    19.046789\n",
       " 1988    19.680285\n",
       " 1989    19.734827\n",
       " 1990    18.819457\n",
       " 1991    18.866795\n",
       " 1992    19.056164\n",
       " 1994    19.437180\n",
       " Name: United States, dtype: float64)"
      ]
     },
     "execution_count": 121,
     "metadata": {},
     "output_type": "execute_result"
    },
    {
     "data": {
      "image/png": "[encoded data removed]",
      "text/plain": [
       "<Figure size 432x288 with 1 Axes>"
      ]
     },
     "metadata": {
      "needs_background": "light"
     },
     "output_type": "display_data"
    }
   ],
   "source": [
    "make_dynamic_refitting_model(country = 'United States', df_train = df_co2_train, df_val = df_co2_val, p = 0, d = 1, q = 1)\n",
    "\n",
    "\n"
   ]
  },
  {
   "cell_type": "code",
   "execution_count": 42,
   "metadata": {},
   "outputs": [],
   "source": [
    "\n",
    "# preds = []\n",
    "# model = ARIMA(df_co2_train.loc['Germany'], order= (0,1, 1)).fit()\n",
    "# pred = model.predict(start = len(df_co2_train.loc['Germany']), end = len(df_co2_train.loc['Germany']))\n",
    "# pred"
   ]
  },
  {
   "cell_type": "code",
   "execution_count": 43,
   "metadata": {},
   "outputs": [
    {
     "data": {
      "text/plain": [
       "11.93342865"
      ]
     },
     "execution_count": 43,
     "metadata": {},
     "output_type": "execute_result"
    }
   ],
   "source": [
    "df_co2_train.loc['Germany']['1962']"
   ]
  },
  {
   "cell_type": "code",
   "execution_count": 46,
   "metadata": {},
   "outputs": [],
   "source": [
    "# predictions = []\n",
    "# # df_beta_hist = df_betas.copy().dropna()\n",
    "\n",
    "# model = ARIMA(df_co2_train.loc['Austria'], order = (0, 1, 1))\n",
    "# fit = model.fit()\n",
    "# # pred = fit.predict(start = 1998, end= year)\n",
    "# # pred = fit.predict(start = pd.to_datetime(1998), end= pd.to_datetime(year))\n",
    "# pred = fit.predict(start = len(df_co2_train) - 1)\n",
    "# #     pred = fit.forecast(5)\n",
    "# # print(pred)\n",
    "# predictions.append(pred)"
   ]
  },
  {
   "cell_type": "code",
   "execution_count": 47,
   "metadata": {},
   "outputs": [],
   "source": [
    "# predictions"
   ]
  },
  {
   "cell_type": "markdown",
   "metadata": {},
   "source": [
    "## Using FBProhphet"
   ]
  },
  {
   "cell_type": "markdown",
   "metadata": {},
   "source": [
    "FBProphet needs a 'ds' and a 'y' column to work."
   ]
  },
  {
   "cell_type": "code",
   "execution_count": 103,
   "metadata": {
    "scrolled": true
   },
   "outputs": [],
   "source": [
    "'''\n",
    "transforming the dataframe to make them useable for FBProphet\n",
    "'''\n",
    "\n",
    "df_co2_transpose = df_co2_clean.transpose()\n",
    "\n",
    "df_co2_transpose = df_co2_transpose.apply(pd.to_numeric)\n",
    "\n",
    "\n",
    "\n",
    "\n",
    "\n",
    "dfy = df_co2_transpose.rename(columns = {'country' : 'ds'} )\n",
    "\n",
    "\n",
    "\n",
    "\n",
    "# df_co2_transpose.info()\n",
    "# dfy.head()\n",
    "dfy['ds'] = dfy.index\n",
    "# dfy.head()\n",
    "dfy['ds'] = dfy['ds'].astype(int)\n",
    "# dfy['ds']\n",
    "\n",
    "df_co2_train_transpose = df_co2_train.transpose()\n",
    "df_co2_val_transpose = df_co2_val.transpose()\n",
    "df_co2_test_transpose = df_co2_val.transpose()\n",
    "\n",
    "df_co2_train_transpose['ds'] = df_co2_train_transpose.index\n",
    "df_co2_val_transpose['ds'] = df_co2_val_transpose.index\n",
    "df_co2_test_transpose['ds'] = df_co2_test_transpose.index\n",
    "\n",
    "df_co2_train_transpose['ds'] = pd.to_datetime(df_co2_train_transpose['ds'], format='%Y')\n",
    "df_co2_val_transpose['ds'] = pd.to_datetime(df_co2_val_transpose['ds'], format='%Y')\n",
    "df_co2_test_transpose['ds'] = pd.to_datetime(df_co2_test_transpose['ds'], format='%Y')"
   ]
  },
  {
   "cell_type": "code",
   "execution_count": 125,
   "metadata": {},
   "outputs": [],
   "source": [
    "def make_prophet_model(country = 'Algeria', df_train = df_co2_train_transpose, df_val = df_co2_val_transpose, exog = []):\n",
    "    \n",
    "    dfp_t = df_train\n",
    "    dfp_t['y'] = df_train[country]\n",
    "    dfp_t = dfp_t[['ds', 'y']]\n",
    "    \n",
    "    dfp_v = df_val\n",
    "    dfp_v['y'] = df_val[country]\n",
    "    dfp_v = dfp_v[['ds', 'y']]\n",
    "    \n",
    "    proph = Prophet()\n",
    "    proph.fit(dfp_t)\n",
    "    forecast = proph.predict(dfp_v)\n",
    "    proph.plot(forecast)\n",
    "    res_df = forecast[['ds','yhat']]\n",
    "    res_df.set_index('ds',inplace=True)\n",
    "    res_df['origin'] = dfp_v['y']\n",
    "    res_df[['origin', 'yhat']].plot()\n",
    "    RMSE = calc_RMSE(res_df['origin'], res_df['yhat'])\n",
    "    return RMSE\n",
    "\n"
   ]
  },
  {
   "cell_type": "code",
   "execution_count": 126,
   "metadata": {},
   "outputs": [
    {
     "name": "stderr",
     "output_type": "stream",
     "text": [
      "INFO:fbprophet:Disabling weekly seasonality. Run prophet with weekly_seasonality=True to override this.\n",
      "INFO:fbprophet:Disabling daily seasonality. Run prophet with daily_seasonality=True to override this.\n"
     ]
    },
    {
     "data": {
      "text/plain": [
       "0.5118473787501949"
      ]
     },
     "execution_count": 126,
     "metadata": {},
     "output_type": "execute_result"
    },
    {
     "data": {
      "image/png": "[encoded data removed]",
      "text/plain": [
       "<Figure size 720x432 with 1 Axes>"
      ]
     },
     "metadata": {},
     "output_type": "display_data"
    },
    {
     "data": {
      "image/png": "[encoded data removed]",
      "text/plain": [
       "<Figure size 432x288 with 1 Axes>"
      ]
     },
     "metadata": {
      "needs_background": "light"
     },
     "output_type": "display_data"
    }
   ],
   "source": [
    "make_prophet_model()"
   ]
  },
  {
   "cell_type": "code",
   "execution_count": 49,
   "metadata": {},
   "outputs": [
    {
     "data": {
      "text/html": [
       "<div>\n",
       "<style scoped>\n",
       "    .dataframe tbody tr th:only-of-type {\n",
       "        vertical-align: middle;\n",
       "    }\n",
       "\n",
       "    .dataframe tbody tr th {\n",
       "        vertical-align: top;\n",
       "    }\n",
       "\n",
       "    .dataframe thead th {\n",
       "        text-align: right;\n",
       "    }\n",
       "</style>\n",
       "<table border=\"1\" class=\"dataframe\">\n",
       "  <thead>\n",
       "    <tr style=\"text-align: right;\">\n",
       "      <th></th>\n",
       "      <th>1962</th>\n",
       "      <th>1963</th>\n",
       "      <th>1964</th>\n",
       "      <th>1965</th>\n",
       "      <th>1966</th>\n",
       "      <th>1967</th>\n",
       "      <th>1968</th>\n",
       "      <th>1969</th>\n",
       "      <th>1970</th>\n",
       "      <th>1971</th>\n",
       "      <th>...</th>\n",
       "      <th>2003</th>\n",
       "      <th>2004</th>\n",
       "      <th>2005</th>\n",
       "      <th>2006</th>\n",
       "      <th>2007</th>\n",
       "      <th>2008</th>\n",
       "      <th>2009</th>\n",
       "      <th>2010</th>\n",
       "      <th>2011</th>\n",
       "      <th>2012</th>\n",
       "    </tr>\n",
       "    <tr>\n",
       "      <th>country</th>\n",
       "      <th></th>\n",
       "      <th></th>\n",
       "      <th></th>\n",
       "      <th></th>\n",
       "      <th></th>\n",
       "      <th></th>\n",
       "      <th></th>\n",
       "      <th></th>\n",
       "      <th></th>\n",
       "      <th></th>\n",
       "      <th></th>\n",
       "      <th></th>\n",
       "      <th></th>\n",
       "      <th></th>\n",
       "      <th></th>\n",
       "      <th></th>\n",
       "      <th></th>\n",
       "      <th></th>\n",
       "      <th></th>\n",
       "      <th></th>\n",
       "      <th></th>\n",
       "    </tr>\n",
       "  </thead>\n",
       "  <tbody>\n",
       "    <tr>\n",
       "      <th>Algeria</th>\n",
       "      <td>0.505686</td>\n",
       "      <td>0.475155</td>\n",
       "      <td>0.484803</td>\n",
       "      <td>0.553244</td>\n",
       "      <td>0.689270</td>\n",
       "      <td>0.671353</td>\n",
       "      <td>0.699885</td>\n",
       "      <td>0.845271</td>\n",
       "      <td>1.096571</td>\n",
       "      <td>1.317743</td>\n",
       "      <td>...</td>\n",
       "      <td>2.899236</td>\n",
       "      <td>2.762220</td>\n",
       "      <td>3.257010</td>\n",
       "      <td>3.113135</td>\n",
       "      <td>3.312875</td>\n",
       "      <td>3.328945</td>\n",
       "      <td>3.564361</td>\n",
       "      <td>3.480977</td>\n",
       "      <td>3.562504</td>\n",
       "      <td>3.785654</td>\n",
       "    </tr>\n",
       "    <tr>\n",
       "      <th>Argentina</th>\n",
       "      <td>2.521022</td>\n",
       "      <td>2.314937</td>\n",
       "      <td>2.536699</td>\n",
       "      <td>2.639906</td>\n",
       "      <td>2.790763</td>\n",
       "      <td>2.856316</td>\n",
       "      <td>2.968070</td>\n",
       "      <td>3.274030</td>\n",
       "      <td>3.449364</td>\n",
       "      <td>3.648299</td>\n",
       "      <td>...</td>\n",
       "      <td>3.502902</td>\n",
       "      <td>4.072844</td>\n",
       "      <td>4.160611</td>\n",
       "      <td>4.464492</td>\n",
       "      <td>4.582394</td>\n",
       "      <td>4.785170</td>\n",
       "      <td>4.483564</td>\n",
       "      <td>4.466338</td>\n",
       "      <td>4.676320</td>\n",
       "      <td>4.774982</td>\n",
       "    </tr>\n",
       "    <tr>\n",
       "      <th>Australia</th>\n",
       "      <td>8.871958</td>\n",
       "      <td>9.264776</td>\n",
       "      <td>9.797169</td>\n",
       "      <td>10.647757</td>\n",
       "      <td>10.356861</td>\n",
       "      <td>10.868811</td>\n",
       "      <td>11.055640</td>\n",
       "      <td>11.418580</td>\n",
       "      <td>11.596569</td>\n",
       "      <td>11.761816</td>\n",
       "      <td>...</td>\n",
       "      <td>17.461840</td>\n",
       "      <td>17.346237</td>\n",
       "      <td>17.773976</td>\n",
       "      <td>17.893128</td>\n",
       "      <td>17.859906</td>\n",
       "      <td>18.016313</td>\n",
       "      <td>18.037269</td>\n",
       "      <td>16.752301</td>\n",
       "      <td>16.772660</td>\n",
       "      <td>16.182094</td>\n",
       "    </tr>\n",
       "    <tr>\n",
       "      <th>Austria</th>\n",
       "      <td>4.758555</td>\n",
       "      <td>5.157335</td>\n",
       "      <td>5.392745</td>\n",
       "      <td>5.253796</td>\n",
       "      <td>5.368049</td>\n",
       "      <td>5.433418</td>\n",
       "      <td>5.726656</td>\n",
       "      <td>6.013441</td>\n",
       "      <td>6.789261</td>\n",
       "      <td>6.955571</td>\n",
       "      <td>...</td>\n",
       "      <td>8.889629</td>\n",
       "      <td>8.778800</td>\n",
       "      <td>9.017238</td>\n",
       "      <td>8.649446</td>\n",
       "      <td>8.319712</td>\n",
       "      <td>8.183160</td>\n",
       "      <td>7.438353</td>\n",
       "      <td>7.969244</td>\n",
       "      <td>7.606392</td>\n",
       "      <td>7.095971</td>\n",
       "    </tr>\n",
       "    <tr>\n",
       "      <th>Bangladesh</th>\n",
       "      <td>0.047542</td>\n",
       "      <td>0.053152</td>\n",
       "      <td>0.053090</td>\n",
       "      <td>0.054050</td>\n",
       "      <td>0.053261</td>\n",
       "      <td>0.054676</td>\n",
       "      <td>0.060728</td>\n",
       "      <td>0.057307</td>\n",
       "      <td>0.056908</td>\n",
       "      <td>0.053188</td>\n",
       "      <td>...</td>\n",
       "      <td>0.248178</td>\n",
       "      <td>0.286703</td>\n",
       "      <td>0.267095</td>\n",
       "      <td>0.338118</td>\n",
       "      <td>0.336645</td>\n",
       "      <td>0.319161</td>\n",
       "      <td>0.355868</td>\n",
       "      <td>0.377610</td>\n",
       "      <td>0.401268</td>\n",
       "      <td>0.426003</td>\n",
       "    </tr>\n",
       "  </tbody>\n",
       "</table>\n",
       "<p>5 rows × 51 columns</p>\n",
       "</div>"
      ],
      "text/plain": [
       "                1962      1963      1964       1965       1966       1967  \\\n",
       "country                                                                     \n",
       "Algeria     0.505686  0.475155  0.484803   0.553244   0.689270   0.671353   \n",
       "Argentina   2.521022  2.314937  2.536699   2.639906   2.790763   2.856316   \n",
       "Australia   8.871958  9.264776  9.797169  10.647757  10.356861  10.868811   \n",
       "Austria     4.758555  5.157335  5.392745   5.253796   5.368049   5.433418   \n",
       "Bangladesh  0.047542  0.053152  0.053090   0.054050   0.053261   0.054676   \n",
       "\n",
       "                 1968       1969       1970       1971  ...       2003  \\\n",
       "country                                                 ...              \n",
       "Algeria      0.699885   0.845271   1.096571   1.317743  ...   2.899236   \n",
       "Argentina    2.968070   3.274030   3.449364   3.648299  ...   3.502902   \n",
       "Australia   11.055640  11.418580  11.596569  11.761816  ...  17.461840   \n",
       "Austria      5.726656   6.013441   6.789261   6.955571  ...   8.889629   \n",
       "Bangladesh   0.060728   0.057307   0.056908   0.053188  ...   0.248178   \n",
       "\n",
       "                 2004       2005       2006       2007       2008       2009  \\\n",
       "country                                                                        \n",
       "Algeria      2.762220   3.257010   3.113135   3.312875   3.328945   3.564361   \n",
       "Argentina    4.072844   4.160611   4.464492   4.582394   4.785170   4.483564   \n",
       "Australia   17.346237  17.773976  17.893128  17.859906  18.016313  18.037269   \n",
       "Austria      8.778800   9.017238   8.649446   8.319712   8.183160   7.438353   \n",
       "Bangladesh   0.286703   0.267095   0.338118   0.336645   0.319161   0.355868   \n",
       "\n",
       "                 2010       2011       2012  \n",
       "country                                      \n",
       "Algeria      3.480977   3.562504   3.785654  \n",
       "Argentina    4.466338   4.676320   4.774982  \n",
       "Australia   16.752301  16.772660  16.182094  \n",
       "Austria      7.969244   7.606392   7.095971  \n",
       "Bangladesh   0.377610   0.401268   0.426003  \n",
       "\n",
       "[5 rows x 51 columns]"
      ]
     },
     "execution_count": 49,
     "metadata": {},
     "output_type": "execute_result"
    }
   ],
   "source": [
    "# proph.fit(df_co2_train)\n",
    "# dfx = df_co2_clean.reset_index(drop = True)\n",
    "# dfx.head()\n",
    "\n",
    "df_co2_clean.head()"
   ]
  },
  {
   "cell_type": "code",
   "execution_count": 53,
   "metadata": {},
   "outputs": [],
   "source": [
    "\n",
    "\n"
   ]
  },
  {
   "cell_type": "code",
   "execution_count": null,
   "metadata": {},
   "outputs": [],
   "source": []
  },
  {
   "cell_type": "code",
   "execution_count": null,
   "metadata": {},
   "outputs": [],
   "source": []
  },
  {
   "cell_type": "code",
   "execution_count": null,
   "metadata": {},
   "outputs": [],
   "source": []
  },
  {
   "cell_type": "code",
   "execution_count": null,
   "metadata": {},
   "outputs": [],
   "source": []
  },
  {
   "cell_type": "code",
   "execution_count": null,
   "metadata": {},
   "outputs": [],
   "source": []
  },
  {
   "cell_type": "code",
   "execution_count": null,
   "metadata": {},
   "outputs": [],
   "source": [
    "\n"
   ]
  },
  {
   "cell_type": "code",
   "execution_count": null,
   "metadata": {},
   "outputs": [],
   "source": []
  },
  {
   "cell_type": "code",
   "execution_count": null,
   "metadata": {},
   "outputs": [],
   "source": []
  },
  {
   "cell_type": "code",
   "execution_count": null,
   "metadata": {},
   "outputs": [],
   "source": [
    "\n"
   ]
  },
  {
   "cell_type": "code",
   "execution_count": null,
   "metadata": {},
   "outputs": [],
   "source": []
  }
 ],
 "metadata": {
  "kernelspec": {
   "display_name": "Python 3",
   "language": "python",
   "name": "python3"
  },
  "language_info": {
   "codemirror_mode": {
    "name": "ipython",
    "version": 3
   },
   "file_extension": ".py",
   "mimetype": "text/x-python",
   "name": "python",
   "nbconvert_exporter": "python",
   "pygments_lexer": "ipython3",
   "version": "3.6.8"
  }
 },
 "nbformat": 4,
 "nbformat_minor": 2
}
